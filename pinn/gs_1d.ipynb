{
 "cells": [
  {
   "cell_type": "code",
   "execution_count": null,
   "id": "2ef6003b",
   "metadata": {},
   "outputs": [],
   "source": [
    "import numpy as np\n",
    "import scipy.linalg\n",
    "from scipy.sparse import diags\n",
    "import matplotlib.pyplot as plt\n",
    "import sys"
   ]
  },
  {
   "cell_type": "markdown",
   "id": "34380065",
   "metadata": {},
   "source": [
    "1D model problem: -u_xx = f\n",
    "with homogeneous boundary conditions (BC)."
   ]
  },
  {
   "cell_type": "code",
   "execution_count": null,
   "id": "3f48099c",
   "metadata": {},
   "outputs": [],
   "source": [
    "# Source term\n",
    "def f(x, k):\n",
    "    return k * k * np.pi * np.pi * np.sin(k * np.pi * x)"
   ]
  },
  {
   "cell_type": "code",
   "execution_count": null,
   "id": "dd021eec",
   "metadata": {},
   "outputs": [],
   "source": [
    "# Exact solution\n",
    "def u_ex(x, k):\n",
    "    return np.sin(k * np.pi * x)"
   ]
  },
  {
   "cell_type": "code",
   "execution_count": null,
   "id": "a6998f8d",
   "metadata": {},
   "outputs": [],
   "source": [
    "def gen_linsys(nx, dx, u, f_arr):\n",
    "    diag_a = -np.ones(nx)\n",
    "    diag_c = 2 * np.ones(nx)\n",
    "    diagonals = [diag_a, diag_c, diag_a]\n",
    "    offsets = [-1, 0, 1]\n",
    "    boundary = [0, nx - 1]\n",
    "    interior = np.arange(1, nx - 1)\n",
    "    mat_a = diags(diagonals, offsets, (nx, nx)).toarray()\n",
    "    f_arr *= dx * dx\n",
    "    mat_a[np.ix_(boundary, boundary)] = np.eye(len(boundary))\n",
    "    s = mat_a[np.ix_(interior, boundary)] @ u[boundary]\n",
    "    f_arr[interior] -= s\n",
    "    mat_a[np.ix_(interior, boundary)] = 0\n",
    "    mat_a[np.ix_(boundary, interior)] = 0\n",
    "    return mat_a, f_arr"
   ]
  },
  {
   "cell_type": "code",
   "execution_count": null,
   "id": "a502b2e4",
   "metadata": {},
   "outputs": [],
   "source": [
    "def main():\n",
    "    maxiter = 8\n",
    "    check_freq = 2\n",
    "    ncheck = maxiter // check_freq + 1\n",
    "    # Grid parameters.\n",
    "    nx = 2**7 + 1  # number of POINTS in the x direction\n",
    "    k = nx // 4\n",
    "    xmin, xmax = 0.0, 1.0  # limits in the x direction\n",
    "    lx = xmax - xmin  # domain length in the x direction\n",
    "    dx = lx / (nx - 1)  # grid spacing in the x direction\n",
    "    x = np.linspace(xmin, xmax, nx)\n",
    "    # analytical solution is high-freq + low-freq\n",
    "    u_analytic = u_ex(x, k) + 10 * u_ex(x, 1)\n",
    "    f_arr = f(x, k) + 10 * f(x, 1)\n",
    "    # generate linear system and apply dirichlet BC\n",
    "    A, f_arr = gen_linsys(nx, dx, u_analytic, f_arr)\n",
    "    # exact numerical solution\n",
    "    u_exact = scipy.linalg.solve(A, f_arr)\n",
    "    print(f\"Discretization Error: {np.linalg.norm(u_exact-u_analytic, ord=np.inf):.4e}\")\n",
    "    fig, ax = plt.subplots(1)\n",
    "    ax.plot(x, u_analytic, marker='o')\n",
    "    ax.plot(x, u_exact, 'r', alpha=0.2)\n",
    "    ax.set_title(\"analytical and numerical solutions of -u_{xx}=f\")\n",
    "\n",
    "    # Gauss-Seidel iterations\n",
    "    L = np.tril(A)\n",
    "    u = np.zeros(nx)\n",
    "    fig, ax = plt.subplots(ncheck + 1)\n",
    "    fig2, ax2 = plt.subplots(ncheck)\n",
    "    ax[0].plot(x, u_analytic, linestyle='-')\n",
    "    ax_i = 0\n",
    "    for i in range(maxiter):\n",
    "        e = u_exact - u\n",
    "        r = f_arr - A @ u\n",
    "        u = u + scipy.linalg.solve_triangular(L, r, lower=True)\n",
    "        print(f\"Iteration {i:6d}/{maxiter:6d}, residual: {np.linalg.norm(r):.4e}, \"\n",
    "              f\"Solution err 2-norm: {np.linalg.norm(e):.4e}, \"\n",
    "              f\"A-norm: {e.transpose() @ A @ e:4e}\")\n",
    "        if np.remainder(i, check_freq) == 0 or i == maxiter - 1:\n",
    "            ax[ax_i+1].plot(x, u, linestyle='-')\n",
    "            ax2[ax_i].plot(x, abs(e), linestyle='-')\n",
    "            ax_i += 1\n",
    "\n",
    "    for i in range(len(ax)-1):\n",
    "        ax[i].get_xaxis().set_visible(False)\n",
    "    for i in range(len(ax2)-1):\n",
    "        ax2[i].get_xaxis().set_visible(False)\n",
    "\n",
    "    ax[0].set_title(\"iterative solution: u\")\n",
    "    ax2[0].set_title(\"error: u_exact - u\")\n",
    "\n",
    "    return 0"
   ]
  },
  {
   "cell_type": "code",
   "execution_count": null,
   "id": "9a3a500c",
   "metadata": {},
   "outputs": [],
   "source": [
    "if __name__ == \"__main__\":\n",
    "    err = main()\n",
    "    plt.show()\n",
    "    # sys.exit(err)"
   ]
  }
 ],
 "metadata": {
  "jupytext": {
   "cell_metadata_filter": "-all",
   "formats": "ipynb,py:percent",
   "main_language": "python"
  }
 },
 "nbformat": 4,
 "nbformat_minor": 5
}
